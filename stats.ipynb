{
 "cells": [
  {
   "metadata": {},
   "cell_type": "markdown",
   "source": [
    "# Statistics\n",
    "## Import Libraries"
   ],
   "id": "fe9ea5d98bc245d1"
  },
  {
   "cell_type": "code",
   "id": "initial_id",
   "metadata": {
    "collapsed": true,
    "ExecuteTime": {
     "end_time": "2024-05-20T03:00:15.106643Z",
     "start_time": "2024-05-20T03:00:15.082263Z"
    }
   },
   "source": "import os",
   "outputs": [],
   "execution_count": 1
  },
  {
   "metadata": {
    "ExecuteTime": {
     "end_time": "2024-05-20T03:00:15.137870Z",
     "start_time": "2024-05-20T03:00:15.119326Z"
    }
   },
   "cell_type": "code",
   "source": [
    "current_directory = os.getcwd()\n",
    "print(\"Current directory:\", current_directory)\n"
   ],
   "id": "c648d96b49c48c82",
   "outputs": [
    {
     "name": "stdout",
     "output_type": "stream",
     "text": [
      "Current directory: C:\\Users\\ChiaChungLim\\PycharmProjects\\Consignment-Itemized-Data\n"
     ]
    }
   ],
   "execution_count": 2
  },
  {
   "metadata": {
    "ExecuteTime": {
     "end_time": "2024-05-20T03:00:15.170593Z",
     "start_time": "2024-05-20T03:00:15.152871Z"
    }
   },
   "cell_type": "code",
   "source": "%cd D:/Archive",
   "id": "375dd365ba030690",
   "outputs": [
    {
     "name": "stdout",
     "output_type": "stream",
     "text": [
      "D:\\Archive\n"
     ]
    }
   ],
   "execution_count": 3
  },
  {
   "metadata": {
    "ExecuteTime": {
     "end_time": "2024-05-20T03:00:15.294936Z",
     "start_time": "2024-05-20T03:00:15.216345Z"
    }
   },
   "cell_type": "code",
   "source": [
    "import os\n",
    "\n",
    "# Get the list of all items in the current directory\n",
    "all_items = os.listdir()\n",
    "\n",
    "# Filter out only the directories that start with \"Sample_\"\n",
    "sample_folders = [item for item in all_items if os.path.isdir(item) and item.startswith(\"Sample_\")]\n",
    "sample_folders_paths = [os.path.join(\"D:/Archive\", folder) for folder in sample_folders]\n",
    "\n",
    "# Print the list of folders\n",
    "sample_folders_paths"
   ],
   "id": "f1de3d9aa5e5686e",
   "outputs": [
    {
     "data": {
      "text/plain": [
       "['D:/Archive\\\\Sample_001-050',\n",
       " 'D:/Archive\\\\Sample_051-100',\n",
       " 'D:/Archive\\\\Sample_101-150',\n",
       " 'D:/Archive\\\\Sample_151-200',\n",
       " 'D:/Archive\\\\Sample_201-250',\n",
       " 'D:/Archive\\\\Sample_251-300',\n",
       " 'D:/Archive\\\\Sample_301-350',\n",
       " 'D:/Archive\\\\Sample_351-400',\n",
       " 'D:/Archive\\\\Sample_401-450']"
      ]
     },
     "execution_count": 4,
     "metadata": {},
     "output_type": "execute_result"
    }
   ],
   "execution_count": 4
  },
  {
   "metadata": {
    "ExecuteTime": {
     "end_time": "2024-05-20T03:00:15.310984Z",
     "start_time": "2024-05-20T03:00:15.300919Z"
    }
   },
   "cell_type": "code",
   "source": [
    "sample_folders_paths = sample_folders_paths[0:4]\n",
    "sample_folders_paths"
   ],
   "id": "cac82f96745a9bc9",
   "outputs": [
    {
     "data": {
      "text/plain": [
       "['D:/Archive\\\\Sample_001-050',\n",
       " 'D:/Archive\\\\Sample_051-100',\n",
       " 'D:/Archive\\\\Sample_101-150',\n",
       " 'D:/Archive\\\\Sample_151-200']"
      ]
     },
     "execution_count": 5,
     "metadata": {},
     "output_type": "execute_result"
    }
   ],
   "execution_count": 5
  },
  {
   "metadata": {
    "ExecuteTime": {
     "end_time": "2024-05-20T03:00:15.434039Z",
     "start_time": "2024-05-20T03:00:15.413018Z"
    }
   },
   "cell_type": "code",
   "source": [
    "# Function to read file names inside a directory\n",
    "def read_files_in_directory(directory):\n",
    "    print(f\"Files inside {directory}:\")\n",
    "    files = [item for item in os.listdir(directory) if os.path.isfile(os.path.join(directory, item))]\n",
    "    for file in files:\n",
    "        print(file)"
   ],
   "id": "f0f7ef28715a9a6d",
   "outputs": [],
   "execution_count": 6
  },
  {
   "metadata": {
    "ExecuteTime": {
     "end_time": "2024-05-20T03:00:15.527583Z",
     "start_time": "2024-05-20T03:00:15.508546Z"
    }
   },
   "cell_type": "code",
   "source": [
    "# Function to gather statistics\n",
    "def gather_statistics(directory):\n",
    "    print(f\"Statistics for {directory}:\")\n",
    "    \n",
    "    # Check if there's an image file containing \"_table\" in the name\n",
    "    table_image = [item for item in os.listdir(directory) if \"_table\" in item.lower() and os.path.isfile(os.path.join(directory, item))]\n",
    "    if table_image:\n",
    "        print(\"Table image detected.\")\n",
    "        # Navigate back to the parent folder\n",
    "        os.chdir(os.path.dirname(directory))\n",
    "    \n",
    "    # Check if the CSV file named 'itemized_data.csv' is present\n",
    "    csv_file = os.path.join(directory, 'itemized_data.csv')\n",
    "    if os.path.isfile(csv_file):\n",
    "        print(\"CSV file 'itemized_data.csv' detected.\")\n",
    "        # Collect statistics on the CSV file\n",
    "        with open(csv_file, 'r') as file:\n",
    "            # Count the number of lines (excluding header)\n",
    "            num_lines = sum(1 for line in file) - 1  # Subtract 1 for the header\n",
    "        print(f\"Number of items in CSV: {num_lines}\")\n",
    "    else:\n",
    "        print(\"CSV file 'itemized_data.csv' not found.\")"
   ],
   "id": "f616f7479aa60c32",
   "outputs": [],
   "execution_count": 7
  },
  {
   "metadata": {
    "ExecuteTime": {
     "end_time": "2024-05-20T03:00:15.574373Z",
     "start_time": "2024-05-20T03:00:15.555334Z"
    }
   },
   "cell_type": "code",
   "source": [
    "# Function to detect table image and navigate back to parent folder\n",
    "def detect_table_image(directory):\n",
    "    table_image = [item for item in os.listdir(directory) if \"_table\" in item.lower() and os.path.isfile(os.path.join(directory, item))]\n",
    "    if table_image:\n",
    "        os.chdir(os.path.dirname(directory))\n",
    "        return True\n",
    "    return False"
   ],
   "id": "964297c869cf06c3",
   "outputs": [],
   "execution_count": 8
  },
  {
   "metadata": {
    "ExecuteTime": {
     "end_time": "2024-05-20T03:00:15.683123Z",
     "start_time": "2024-05-20T03:00:15.664974Z"
    }
   },
   "cell_type": "code",
   "source": [
    "# Function to detect CSV file\n",
    "def detect_csv_file(directory):\n",
    "    csv_file = os.path.join(directory, 'itemized_data.csv')\n",
    "    return os.path.isfile(csv_file)"
   ],
   "id": "a52b0fadf79b6bb1",
   "outputs": [],
   "execution_count": 9
  },
  {
   "metadata": {
    "ExecuteTime": {
     "end_time": "2024-05-20T03:00:19.715942Z",
     "start_time": "2024-05-20T03:00:15.703039Z"
    }
   },
   "cell_type": "code",
   "source": [
    "# Dictionary to store statistics\n",
    "statistics = {}\n",
    "\n",
    "for fp in sample_folders_paths:\n",
    "    os.chdir(fp)\n",
    "    print(\"Current directory:\", os.getcwd())\n",
    "    \n",
    "    child_directories = [item for item in os.listdir() if os.path.isdir(item)]\n",
    "    # print(child_directories)\n",
    "    for child_dir in child_directories:\n",
    "        child_path = os.path.join(fp, child_dir)\n",
    "        # Step 3: Detect table image and navigate back to parent folder\n",
    "        if detect_table_image(child_path):\n",
    "            table_img_info = \"Table image file found.\"\n",
    "        else:\n",
    "            table_img_info = \"No image file found.\"\n",
    "            \n",
    "        # Step 4: Detect CSV file\n",
    "        if detect_csv_file(child_path):\n",
    "            csv_info = \"CSV file detected.\"\n",
    "        else:\n",
    "            csv_info = \"No CSV file found.\"\n",
    "        # Step 5: Display directory name and CSV info\n",
    "        print(f\"{child_dir}: {table_img_info} {csv_info}\")"
   ],
   "id": "c14c75b161464bca",
   "outputs": [
    {
     "name": "stdout",
     "output_type": "stream",
     "text": [
      "Current directory: D:\\Archive\\Sample_001-050\n",
      "ALMCIP03210856: No image file found. No CSV file found.\n",
      "ALMCIP06190024: Table image file found. CSV file detected.\n",
      "ALMCIP06220991: No image file found. No CSV file found.\n",
      "ALMCIP06221034: No image file found. No CSV file found.\n",
      "ALMCIP06230185: Table image file found. CSV file detected.\n",
      "ALMCIP06230407: No image file found. No CSV file found.\n",
      "ALMCIP06230740: No image file found. No CSV file found.\n",
      "ALMCIP07220776: No image file found. No CSV file found.\n",
      "ALMCIP07220807: No image file found. No CSV file found.\n",
      "ALMCIP07221016: No image file found. No CSV file found.\n",
      "ALMCIP07221422: No image file found. No CSV file found.\n",
      "ALMCIP07230117: No image file found. No CSV file found.\n",
      "ALMCIP07230376: No image file found. No CSV file found.\n",
      "ALMCIP07230942: No image file found. No CSV file found.\n",
      "ALMCIP07231395: No image file found. No CSV file found.\n",
      "ALMCIP08221105: No image file found. No CSV file found.\n",
      "ALMCIP08221195: No image file found. No CSV file found.\n",
      "ALMCIP08231176: Table image file found. CSV file detected.\n",
      "ALMCIP08231615: No image file found. No CSV file found.\n",
      "ALMCIP09210096: No image file found. No CSV file found.\n",
      "ALMCIP09220433: No image file found. No CSV file found.\n",
      "ALMCIP09220475: No image file found. No CSV file found.\n",
      "ALMCIP09220820: No image file found. No CSV file found.\n",
      "ALMCIP09230570: No image file found. No CSV file found.\n",
      "ALMCIP09231160: Table image file found. CSV file detected.\n",
      "ALMCIP10210574: Table image file found. CSV file detected.\n",
      "ALMCIP10210576: No image file found. No CSV file found.\n",
      "ALMCIP10210684: Table image file found. CSV file detected.\n",
      "ALMCIP10220334: No image file found. No CSV file found.\n",
      "ALMCIP10220645: No image file found. No CSV file found.\n",
      "ALMCIP10221216: No image file found. No CSV file found.\n",
      "ALMCIP10230218: No image file found. No CSV file found.\n",
      "ALMCIP10230721: No image file found. No CSV file found.\n",
      "ALMCIP11210090: Table image file found. CSV file detected.\n",
      "ALMCIP11210133: Table image file found. CSV file detected.\n",
      "ALMCIP11210565: Table image file found. CSV file detected.\n",
      "ALMCIP11220420: No image file found. No CSV file found.\n",
      "ALMCIP11220909: No image file found. No CSV file found.\n",
      "ALMCIP11221105: No image file found. No CSV file found.\n",
      "ALMCIP11230163: No image file found. No CSV file found.\n",
      "ALMCIP11230276: No image file found. No CSV file found.\n",
      "ALMCIP11230830: No image file found. No CSV file found.\n",
      "ALMCIP11231023: No image file found. No CSV file found.\n",
      "ALMCIP12211010: No image file found. No CSV file found.\n",
      "ALMCIP12220509: No image file found. No CSV file found.\n",
      "ALMCIP12220547: No image file found. No CSV file found.\n",
      "ALMCIP12220786: No image file found. No CSV file found.\n",
      "ALMCIP12220792: No image file found. No CSV file found.\n",
      "ALMCIP12220825: No image file found. No CSV file found.\n",
      "ALMCIP12221378: No image file found. No CSV file found.\n",
      "Current directory: D:\\Archive\\Sample_051-100\n",
      "ALMCIP06210464: No image file found. No CSV file found.\n",
      "ALMCIP06230522: No image file found. No CSV file found.\n",
      "ALMCIP06230793: No image file found. No CSV file found.\n",
      "ALMCIP06231074: No image file found. No CSV file found.\n",
      "ALMCIP06231339: No image file found. No CSV file found.\n",
      "ALMCIP06231414: No image file found. No CSV file found.\n",
      "ALMCIP07210037: No image file found. No CSV file found.\n",
      "ALMCIP07230046: No image file found. No CSV file found.\n",
      "ALMCIP07230381: No image file found. No CSV file found.\n",
      "ALMCIP08210185: No image file found. No CSV file found.\n",
      "ALMCIP08210497: No image file found. No CSV file found.\n",
      "ALMCIP08220269: No image file found. No CSV file found.\n",
      "ALMCIP08220348: No image file found. No CSV file found.\n",
      "ALMCIP08230409: No image file found. No CSV file found.\n",
      "ALMCIP08230567: No image file found. No CSV file found.\n",
      "ALMCIP08231545: No image file found. No CSV file found.\n",
      "ALMCIP09220050: No image file found. No CSV file found.\n",
      "ALMCIP09220165: No image file found. No CSV file found.\n",
      "ALMCIP09220306: No image file found. No CSV file found.\n",
      "ALMCIP09220622: No image file found. No CSV file found.\n",
      "ALMCIP09230589: No image file found. No CSV file found.\n",
      "ALMCIP09230800: No image file found. No CSV file found.\n",
      "ALMCIP09231094: No image file found. No CSV file found.\n",
      "ALMCIP09231120: No image file found. No CSV file found.\n",
      "ALMCIP09231153: No image file found. No CSV file found.\n",
      "ALMCIP10210294: No image file found. No CSV file found.\n",
      "ALMCIP10220704: No image file found. No CSV file found.\n",
      "ALMCIP10220752: No image file found. No CSV file found.\n",
      "ALMCIP10220984: No image file found. No CSV file found.\n",
      "ALMCIP10221198: No image file found. No CSV file found.\n",
      "ALMCIP10230670: No image file found. No CSV file found.\n",
      "ALMCIP10230686: No image file found. No CSV file found.\n",
      "ALMCIP10230864: No image file found. No CSV file found.\n",
      "ALMCIP10231085: No image file found. No CSV file found.\n",
      "ALMCIP11230061: No image file found. No CSV file found.\n",
      "ALMCIP11230073: No image file found. No CSV file found.\n",
      "ALMCIP11230356: No image file found. No CSV file found.\n",
      "ALMCIP11230879: No image file found. No CSV file found.\n",
      "ALMCIP11230918: No image file found. No CSV file found.\n",
      "ALMCIP12210442: No image file found. No CSV file found.\n",
      "ALMCIP12210783: No image file found. No CSV file found.\n",
      "ALMCIP12220449: No image file found. No CSV file found.\n",
      "ALMCIP12220506: No image file found. No CSV file found.\n",
      "ALMCIP12220610: No image file found. No CSV file found.\n",
      "ALMCIP12230170: No image file found. No CSV file found.\n",
      "ALMCIP12230247: No image file found. No CSV file found.\n",
      "ALMCIP12230371: No image file found. No CSV file found.\n",
      "ALMCIP12230693: No image file found. No CSV file found.\n",
      "ALMCIP12231016: Table image file found. No CSV file found.\n",
      "ALMCIP12231443: No image file found. No CSV file found.\n",
      "Current directory: D:\\Archive\\Sample_101-150\n",
      "ALMCIP03210610: No image file found. No CSV file found.\n",
      "ALMCIP06210056: No image file found. No CSV file found.\n",
      "ALMCIP06220773: Table image file found. CSV file detected.\n",
      "ALMCIP06221161: Table image file found. CSV file detected.\n",
      "ALMCIP06230033: Table image file found. CSV file detected.\n",
      "ALMCIP06230848: No image file found. No CSV file found.\n",
      "ALMCIP06231097: No image file found. No CSV file found.\n",
      "ALMCIP06231218: No image file found. No CSV file found.\n",
      "ALMCIP06231299: No image file found. No CSV file found.\n",
      "ALMCIP07210458: Table image file found. CSV file detected.\n",
      "ALMCIP07220088: Table image file found. CSV file detected.\n",
      "ALMCIP07220823: Table image file found. CSV file detected.\n",
      "ALMCIP07221247: No image file found. No CSV file found.\n",
      "ALMCIP07230386: Table image file found. CSV file detected.\n",
      "ALMCIP07231118: No image file found. No CSV file found.\n",
      "ALMCIP07231199: No image file found. No CSV file found.\n",
      "ALMCIP08220447: Table image file found. CSV file detected.\n",
      "ALMCIP08220632: Table image file found. CSV file detected.\n",
      "ALMCIP08230901: No image file found. No CSV file found.\n",
      "ALMCIP09210191: No image file found. No CSV file found.\n",
      "ALMCIP09210452: Table image file found. CSV file detected.\n",
      "ALMCIP09220159: Table image file found. CSV file detected.\n",
      "ALMCIP09220457: No image file found. No CSV file found.\n",
      "ALMCIP09230189: No image file found. No CSV file found.\n",
      "ALMCIP09230214: Table image file found. CSV file detected.\n",
      "ALMCIP09230421: No image file found. No CSV file found.\n",
      "ALMCIP09230438: No image file found. No CSV file found.\n",
      "ALMCIP09230512: No image file found. No CSV file found.\n",
      "ALMCIP09230894: No image file found. No CSV file found.\n",
      "ALMCIP09231327: Table image file found. CSV file detected.\n",
      "ALMCIP10210640: No image file found. No CSV file found.\n",
      "ALMCIP10220039: Table image file found. CSV file detected.\n",
      "ALMCIP10220239: Table image file found. CSV file detected.\n",
      "ALMCIP10230978: Table image file found. CSV file detected.\n",
      "ALMCIP11210431: No image file found. No CSV file found.\n",
      "ALMCIP11210591: Table image file found. CSV file detected.\n",
      "ALMCIP11220096: Table image file found. CSV file detected.\n",
      "ALMCIP11220250: No image file found. No CSV file found.\n",
      "ALMCIP11220542: No image file found. No CSV file found.\n",
      "ALMCIP11220612: Table image file found. CSV file detected.\n",
      "ALMCIP11220849: No image file found. No CSV file found.\n",
      "ALMCIP11220851: No image file found. No CSV file found.\n",
      "ALMCIP11221085: Table image file found. CSV file detected.\n",
      "ALMCIP11230388: Table image file found. CSV file detected.\n",
      "ALMCIP12210136: No image file found. No CSV file found.\n",
      "ALMCIP12221004: No image file found. No CSV file found.\n",
      "ALMCIP12230102: No image file found. No CSV file found.\n",
      "ALMCIP12230360: No image file found. No CSV file found.\n",
      "ALMCIP12230970: Table image file found. CSV file detected.\n",
      "ALMCIP12231050: No image file found. No CSV file found.\n",
      "Current directory: D:\\Archive\\Sample_151-200\n",
      "ALMCIP02210601: No image file found. No CSV file found.\n",
      "ALMCIP03210651: Table image file found. CSV file detected.\n",
      "ALMCIP04210208: Table image file found. CSV file detected.\n",
      "ALMCIP04210317: No image file found. No CSV file found.\n",
      "ALMCIP04210814: No image file found. No CSV file found.\n",
      "ALMCIP04210890: No image file found. No CSV file found.\n",
      "ALMCIP05210207: No image file found. No CSV file found.\n",
      "ALMCIP05210543: No image file found. No CSV file found.\n",
      "ALMCIP05210785: No image file found. No CSV file found.\n",
      "ALMCIP06210529: No image file found. No CSV file found.\n",
      "ALMCIP06220919: Table image file found. CSV file detected.\n",
      "ALMCIP06230521: Table image file found. CSV file detected.\n",
      "ALMCIP06231345: Table image file found. CSV file detected.\n",
      "ALMCIP07220643: No image file found. No CSV file found.\n",
      "ALMCIP07220783: Table image file found. CSV file detected.\n",
      "ALMCIP07221074: No image file found. No CSV file found.\n",
      "ALMCIP07231360: No image file found. No CSV file found.\n",
      "ALMCIP08220804: Table image file found. CSV file detected.\n",
      "ALMCIP08221377: No image file found. No CSV file found.\n",
      "ALMCIP08230174: No image file found. No CSV file found.\n",
      "ALMCIP08230324: Table image file found. CSV file detected.\n",
      "ALMCIP08230345: No image file found. No CSV file found.\n",
      "ALMCIP08230662: No image file found. No CSV file found.\n",
      "ALMCIP08231202: Table image file found. CSV file detected.\n",
      "ALMCIP08231405: Table image file found. CSV file detected.\n",
      "ALMCIP08231429: Table image file found. CSV file detected.\n",
      "ALMCIP09220193: No image file found. No CSV file found.\n",
      "ALMCIP09220662: No image file found. No CSV file found.\n",
      "ALMCIP09221004: Table image file found. CSV file detected.\n",
      "ALMCIP09221144: Table image file found. CSV file detected.\n",
      "ALMCIP09230101: No image file found. No CSV file found.\n",
      "ALMCIP09230222: No image file found. No CSV file found.\n",
      "ALMCIP09230430: No image file found. No CSV file found.\n",
      "ALMCIP09230674: No image file found. No CSV file found.\n",
      "ALMCIP10210079: Table image file found. CSV file detected.\n",
      "ALMCIP10210345: No image file found. No CSV file found.\n",
      "ALMCIP10210731: Table image file found. CSV file detected.\n",
      "ALMCIP10220663: Table image file found. CSV file detected.\n",
      "ALMCIP10220908: Table image file found. No CSV file found.\n",
      "ALMCIP10231183: No image file found. No CSV file found.\n",
      "ALMCIP10231189: Table image file found. No CSV file found.\n",
      "ALMCIP11210924: Table image file found. CSV file detected.\n",
      "ALMCIP11220665: No image file found. No CSV file found.\n",
      "ALMCIP11220774: Table image file found. CSV file detected.\n",
      "ALMCIP11221155: No image file found. No CSV file found.\n",
      "ALMCIP11230597: Table image file found. CSV file detected.\n",
      "ALMCIP12210153: No image file found. No CSV file found.\n",
      "ALMCIP12210653: Table image file found. CSV file detected.\n",
      "ALMCIP12220727: Table image file found. CSV file detected.\n",
      "ALMCIP12231490: Table image file found. CSV file detected.\n"
     ]
    }
   ],
   "execution_count": 10
  },
  {
   "metadata": {
    "ExecuteTime": {
     "end_time": "2024-05-20T03:00:19.731893Z",
     "start_time": "2024-05-20T03:00:19.720927Z"
    }
   },
   "cell_type": "code",
   "source": [
    "# Display statistics\n",
    "print(\"Statistics:\")\n",
    "for directory, info in statistics.items():\n",
    "    print(f\"{directory}: {info}\")"
   ],
   "id": "b9ed73f910f979b1",
   "outputs": [
    {
     "name": "stdout",
     "output_type": "stream",
     "text": [
      "Statistics:\n"
     ]
    }
   ],
   "execution_count": 11
  },
  {
   "metadata": {
    "ExecuteTime": {
     "end_time": "2024-05-14T04:20:24.927131Z",
     "start_time": "2024-05-14T04:20:24.915997Z"
    }
   },
   "cell_type": "code",
   "source": "",
   "id": "1ef7a3a032e0ac07",
   "outputs": [],
   "execution_count": 22
  },
  {
   "metadata": {
    "ExecuteTime": {
     "end_time": "2024-05-14T04:20:24.943219Z",
     "start_time": "2024-05-14T04:20:24.933114Z"
    }
   },
   "cell_type": "code",
   "source": "",
   "id": "40d2a613d55c852a",
   "outputs": [],
   "execution_count": 22
  },
  {
   "metadata": {
    "ExecuteTime": {
     "end_time": "2024-05-14T04:20:24.959314Z",
     "start_time": "2024-05-14T04:20:24.946214Z"
    }
   },
   "cell_type": "code",
   "source": "",
   "id": "f988c91bab53ede3",
   "outputs": [],
   "execution_count": 22
  },
  {
   "metadata": {
    "ExecuteTime": {
     "end_time": "2024-05-14T04:20:25.068083Z",
     "start_time": "2024-05-14T04:20:25.059107Z"
    }
   },
   "cell_type": "code",
   "source": "",
   "id": "c8139f66f747e39f",
   "outputs": [],
   "execution_count": 22
  },
  {
   "metadata": {},
   "cell_type": "code",
   "outputs": [],
   "execution_count": null,
   "source": "",
   "id": "ae022dba8bd3fd85"
  }
 ],
 "metadata": {
  "kernelspec": {
   "display_name": "Python 3",
   "language": "python",
   "name": "python3"
  },
  "language_info": {
   "codemirror_mode": {
    "name": "ipython",
    "version": 2
   },
   "file_extension": ".py",
   "mimetype": "text/x-python",
   "name": "python",
   "nbconvert_exporter": "python",
   "pygments_lexer": "ipython2",
   "version": "2.7.6"
  }
 },
 "nbformat": 4,
 "nbformat_minor": 5
}
